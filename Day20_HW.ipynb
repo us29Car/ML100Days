{
 "cells": [
  {
   "cell_type": "code",
   "execution_count": 1,
   "metadata": {},
   "outputs": [],
   "source": [
    "#1. 在速度較慢的時候，可以先從哪邊開始檢查？\n",
    "#   讀取檔案時 pkl > hdf > csv > xlxs\n",
    "#   在pandas agg及transform使用內建函式\n",
    "#   比起tranform盡量使用agg\n",
    "#   搜索時使用像是isin()這種向量化的資料處理，還可以使用numba\n",
    "#   在程式規劃初期就要想好，避免後面因為bug需要重構"
   ]
  },
  {
   "cell_type": "code",
   "execution_count": 2,
   "metadata": {},
   "outputs": [],
   "source": [
    "#2. 資料過⼤時應採取什麼⽅式讓記憶體占⽤量下降？\n",
    "#   欄位的型態降級有助於減少記憶體佔用空間\n",
    "#   像是int 64 -> uint 64 -> uint 16"
   ]
  },
  {
   "cell_type": "code",
   "execution_count": null,
   "metadata": {},
   "outputs": [],
   "source": []
  },
  {
   "cell_type": "code",
   "execution_count": null,
   "metadata": {},
   "outputs": [],
   "source": []
  }
 ],
 "metadata": {
  "kernelspec": {
   "display_name": "Python 3",
   "language": "python",
   "name": "python3"
  },
  "language_info": {
   "codemirror_mode": {
    "name": "ipython",
    "version": 3
   },
   "file_extension": ".py",
   "mimetype": "text/x-python",
   "name": "python",
   "nbconvert_exporter": "python",
   "pygments_lexer": "ipython3",
   "version": "3.7.3"
  }
 },
 "nbformat": 4,
 "nbformat_minor": 2
}
