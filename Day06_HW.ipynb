{
 "cells": [
  {
   "cell_type": "markdown",
   "metadata": {
    "id": "YWb4mnd4fqAG"
   },
   "source": [
    "作業目標<br>\n",
    "讀取存取陣列資料<br>\n",
    "作業重點<br>\n",
    "多陣列存一起需要存成npz，讀取須注意npz中有多個陣列"
   ]
  },
  {
   "cell_type": "markdown",
   "metadata": {
    "id": "UXV4vW6IfsW6"
   },
   "source": [
    "題目:<br>\n",
    "1. 將下兩列array存成npz檔<br>\n",
    "array1 = np.array(range(30))<br>\n",
    "array2 = np.array([2,3,5])<br>\n",
    "2. 讀取剛剛的npz檔，加入下列array一起存成新的npz檔array3 = np.array([[4,5,6],[1,2,3]])\n"
   ]
  },
  {
   "cell_type": "code",
   "execution_count": 39,
   "metadata": {
    "id": "1mZQSUx_fry7"
   },
   "outputs": [],
   "source": [
    "#. 將下兩列array存成npz檔\\\n",
    "import numpy as np\n",
    "from io import StringIO\n",
    "\n",
    "array1 = np.array(range(30))\n",
    "array2 = np.array([2,3,5])\n",
    "with open('multi_array.npz', 'wb') as f:\n",
    "    np.savez(f ,arr1 = array1, arr2 = array2)"
   ]
  },
  {
   "cell_type": "code",
   "execution_count": 57,
   "metadata": {
    "id": "Ie1TGcssiIDN"
   },
   "outputs": [
    {
     "name": "stdout",
     "output_type": "stream",
     "text": [
      "[ 0  1  2  3  4  5  6  7  8  9 10 11 12 13 14 15 16 17 18 19 20 21 22 23\n",
      " 24 25 26 27 28 29] \n",
      "\n",
      "[2 3 5] \n",
      "\n",
      "[[4 5 6]\n",
      " [1 2 3]] \n",
      "\n"
     ]
    }
   ],
   "source": [
    "#2. 讀取剛剛的npz檔，加入下列array一起存成新的npz檔\n",
    "array3 = np.array([[4,5,6],[1,2,3]])\n",
    "\n",
    "with open('multi_array.npz', 'wb') as f:\n",
    "    np.savez(f ,arr1 = array1, arr2 = array2, arr3 = array3)\n",
    "    \n",
    "f = np.load(\"multi_array.npz\")\n",
    "print(f['arr1'],\"\\n\")\n",
    "print(f['arr2'],\"\\n\")\n",
    "print(f['arr3'],\"\\n\")"
   ]
  },
  {
   "cell_type": "code",
   "execution_count": null,
   "metadata": {},
   "outputs": [],
   "source": []
  }
 ],
 "metadata": {
  "colab": {
   "collapsed_sections": [],
   "name": "作業Hong題目.ipynb",
   "provenance": []
  },
  "kernelspec": {
   "display_name": "Python 3",
   "language": "python",
   "name": "python3"
  },
  "language_info": {
   "codemirror_mode": {
    "name": "ipython",
    "version": 3
   },
   "file_extension": ".py",
   "mimetype": "text/x-python",
   "name": "python",
   "nbconvert_exporter": "python",
   "pygments_lexer": "ipython3",
   "version": "3.7.3"
  }
 },
 "nbformat": 4,
 "nbformat_minor": 1
}
