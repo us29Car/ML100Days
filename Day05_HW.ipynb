{
 "cells": [
  {
   "cell_type": "markdown",
   "metadata": {
    "id": "oef8c2jr-PZY"
   },
   "source": [
    "作業目標<br>\n",
    "計算有缺失值的資料，統計量實作<br>\n",
    "作業重點<br>\n",
    "當遇到缺失值有函式可以處理，不須額外寫程式刪除<br>\n",
    "計算統計量時不能出現缺失值"
   ]
  },
  {
   "cell_type": "markdown",
   "metadata": {
    "id": "4YgL8NF4-Ru3"
   },
   "source": [
    "題目:<br>\n",
    "english_score = np.array([55,89,76,65,48,70])<br>\n",
    "math_score = np.array([60,85,60,68,np.nan,60])<br>\n",
    "chinese_score = np.array([65,90,82,72,66,77])<br>\n",
    "上3列共六位同學的英文、數學、國文成績，第一個元素代表第一位同學，舉例第一位同學英文55分、數學60分、國文65分，今天第五位同學因某原因沒來考試，導致數學成績缺值，運用上列數據回答下列問題。<br>\n",
    "1. 請計算各科成績平均、最大值、最小值、標準差，其中數學缺一筆資料可忽略?\n",
    "2. 第五位同學補考數學後成績為55，請計算補考後數學成績平均、最大值、最小值、標準差?\n",
    "3. 用補考後資料找出與國文成績相關係數最高的學科?"
   ]
  },
  {
   "cell_type": "code",
   "execution_count": 2,
   "metadata": {
    "executionInfo": {
     "elapsed": 617,
     "status": "ok",
     "timestamp": 1609854566856,
     "user": {
      "displayName": "献竤黃",
      "photoUrl": "",
      "userId": "07529243043474362942"
     },
     "user_tz": -480
    },
    "id": "QwsKU8qO-RK7"
   },
   "outputs": [],
   "source": [
    "import numpy as np"
   ]
  },
  {
   "cell_type": "code",
   "execution_count": 3,
   "metadata": {
    "executionInfo": {
     "elapsed": 1016,
     "status": "ok",
     "timestamp": 1609854567261,
     "user": {
      "displayName": "献竤黃",
      "photoUrl": "",
      "userId": "07529243043474362942"
     },
     "user_tz": -480
    },
    "id": "B5BqDQAe_czh"
   },
   "outputs": [],
   "source": [
    "english_score = np.array([55,89,76,65,48,70])\n",
    "math_score = np.array([60,85,60,68,np.nan,60])\n",
    "chinese_score = np.array([65,90,82,72,66,77])"
   ]
  },
  {
   "cell_type": "code",
   "execution_count": 16,
   "metadata": {
    "executionInfo": {
     "elapsed": 1005,
     "status": "ok",
     "timestamp": 1609854567262,
     "user": {
      "displayName": "献竤黃",
      "photoUrl": "",
      "userId": "07529243043474362942"
     },
     "user_tz": -480
    },
    "id": "K3tUA6u9aI3N"
   },
   "outputs": [
    {
     "name": "stdout",
     "output_type": "stream",
     "text": [
      "english:\n",
      "89\n",
      "48\n",
      "67.16666666666667\n",
      "13.433995020924426\n",
      "math:\n",
      "85.0\n",
      "60.0\n",
      "66.6\n",
      "9.707728879609279\n",
      "chinese:\n",
      "90\n",
      "65\n",
      "75.33333333333333\n",
      "8.825468196582484\n"
     ]
    }
   ],
   "source": [
    "#1. 請計算各科成績平均、最大值、最小值、標準差，其中數學缺一筆資料可忽略? 用nan相關函數可\n",
    "eng_max = np.max(english_score)\n",
    "eng_mean = np.mean(english_score)\n",
    "eng_min = np.min(english_score)\n",
    "eng_std = np.std(english_score)\n",
    "print(\"english:\")\n",
    "print(eng_max)\n",
    "print(eng_min)\n",
    "print(eng_mean)\n",
    "print(eng_std)\n",
    "\n",
    "mt_max = np.nanmax(math_score)\n",
    "mt_mean = np.nanmean(math_score)\n",
    "mt_min = np.nanmin(math_score)\n",
    "mt_std = np.nanstd(math_score)\n",
    "print(\"math:\")\n",
    "print(mt_max)\n",
    "print(mt_min)\n",
    "print(mt_mean)\n",
    "print(mt_std)\n",
    "\n",
    "chn_max = np.max(chinese_score)\n",
    "chn_mean = np.mean(chinese_score)\n",
    "chn_min = np.min(chinese_score)\n",
    "chn_std = np.std(chinese_score)\n",
    "print(\"chinese:\")\n",
    "print(chn_max)\n",
    "print(chn_min)\n",
    "print(chn_mean)\n",
    "print(chn_std)"
   ]
  },
  {
   "cell_type": "code",
   "execution_count": 17,
   "metadata": {
    "executionInfo": {
     "elapsed": 996,
     "status": "ok",
     "timestamp": 1609854567262,
     "user": {
      "displayName": "献竤黃",
      "photoUrl": "",
      "userId": "07529243043474362942"
     },
     "user_tz": -480
    },
    "id": "mXjDzvSrbLlf"
   },
   "outputs": [
    {
     "name": "stdout",
     "output_type": "stream",
     "text": [
      "math:\n",
      "85\n",
      "55\n",
      "64.66666666666667\n",
      "9.860132971832694\n"
     ]
    }
   ],
   "source": [
    "#2. 第五位同學補考數學後成績為55，請計算補考後數學成績平均、最大值、最小值、標準差?\n",
    "math_score = np.array([60,85,60,68,55,60])\n",
    "mt_max = np.max(math_score)\n",
    "mt_mean = np.mean(math_score)\n",
    "mt_min = np.min(math_score)\n",
    "mt_std = np.std(math_score)\n",
    "print(\"math:\")\n",
    "print(mt_max)\n",
    "print(mt_min)\n",
    "print(mt_mean)\n",
    "print(mt_std)"
   ]
  },
  {
   "cell_type": "code",
   "execution_count": 26,
   "metadata": {
    "executionInfo": {
     "elapsed": 989,
     "status": "ok",
     "timestamp": 1609854567264,
     "user": {
      "displayName": "献竤黃",
      "photoUrl": "",
      "userId": "07529243043474362942"
     },
     "user_tz": -480
    },
    "id": "SaGolKx0cKoU"
   },
   "outputs": [
    {
     "name": "stdout",
     "output_type": "stream",
     "text": [
      "English\n"
     ]
    }
   ],
   "source": [
    "#3. 用補考後資料找出與國文成績相關係數最高的學科?\n",
    "chn_eng = np.correlate(chinese_score, english_score, mode ='valid')\n",
    "chn_math = np.correlate(chinese_score, math_score, mode = 'valid')\n",
    "\n",
    "if chn_eng>chn_math:\n",
    "    print(\"English\")\n",
    "else:\n",
    "    print(\"Math\")"
   ]
  },
  {
   "cell_type": "code",
   "execution_count": 18,
   "metadata": {
    "executionInfo": {
     "elapsed": 987,
     "status": "ok",
     "timestamp": 1609854567264,
     "user": {
      "displayName": "献竤黃",
      "photoUrl": "",
      "userId": "07529243043474362942"
     },
     "user_tz": -480
    },
    "id": "fTNlLZ9Pzyiy"
   },
   "outputs": [],
   "source": []
  },
  {
   "cell_type": "code",
   "execution_count": null,
   "metadata": {},
   "outputs": [],
   "source": []
  }
 ],
 "metadata": {
  "colab": {
   "authorship_tag": "ABX9TyPtywwDR7TsGGEOMGYLDT5h",
   "collapsed_sections": [],
   "name": "作業Hong題目.ipynb",
   "provenance": []
  },
  "kernelspec": {
   "display_name": "Python 3",
   "language": "python",
   "name": "python3"
  },
  "language_info": {
   "codemirror_mode": {
    "name": "ipython",
    "version": 3
   },
   "file_extension": ".py",
   "mimetype": "text/x-python",
   "name": "python",
   "nbconvert_exporter": "python",
   "pygments_lexer": "ipython3",
   "version": "3.7.3"
  }
 },
 "nbformat": 4,
 "nbformat_minor": 1
}
